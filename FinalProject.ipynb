{
 "cells": [
  {
   "cell_type": "markdown",
   "metadata": {},
   "source": [
    "### DS 340H: Final Project\n",
    "By: Tayae Rogers \\\n",
    "Date: 10/25/2024"
   ]
  },
  {
   "cell_type": "code",
   "execution_count": 211,
   "metadata": {},
   "outputs": [],
   "source": [
    "import pandas as pd\n",
    "import geopandas as gpd\n",
    "from pyproj import Proj, transform, Transformer\n",
    "# from geopy.geocoders import Nominatim\n",
    "import datetime\n",
    "import matplotlib.pyplot as plt\n",
    "import numpy as np\n",
    "import seaborn as sns"
   ]
  },
  {
   "cell_type": "markdown",
   "metadata": {},
   "source": [
    "### Reading in data"
   ]
  },
  {
   "cell_type": "code",
   "execution_count": 173,
   "metadata": {},
   "outputs": [],
   "source": [
    "# Blue Bike rides\n",
    "june22 = pd.read_csv('202206-bluebikes-tripdata.csv')\n",
    "july22 = pd.read_csv('202207-bluebikes-tripdata.csv')\n",
    "aug22 = pd.read_csv('202208-bluebikes-tripdata.csv')\n",
    "\n",
    "bike_rides = pd.concat([june22, july22, aug22])"
   ]
  },
  {
   "cell_type": "code",
   "execution_count": 174,
   "metadata": {},
   "outputs": [],
   "source": [
    "# Blue Bike stations\n",
    "bike_stations = pd.read_csv('current_bluebikes_stations.csv', header=1)"
   ]
  },
  {
   "cell_type": "code",
   "execution_count": 129,
   "metadata": {},
   "outputs": [],
   "source": [
    "# MBTA rides\n",
    "T_rides_Q2 = pd.read_csv('TravelTimes_2022/2022-Q2_HRTravelTimes.csv')\n",
    "T_rides_Q3 = pd.read_csv('TravelTimes_2022/2022-Q3_HRTravelTimes.csv')\n",
    "\n",
    "T_rides = pd.concat([T_rides_Q2, T_rides_Q3])"
   ]
  },
  {
   "cell_type": "code",
   "execution_count": 10,
   "metadata": {},
   "outputs": [],
   "source": [
    "# MBTA stations\n",
    "T_stations = gpd.read_file('mbta_rapid_transit/MBTA_NODE.shp')"
   ]
  },
  {
   "cell_type": "markdown",
   "metadata": {},
   "source": [
    "### Data cleaning"
   ]
  },
  {
   "cell_type": "markdown",
   "metadata": {},
   "source": [
    "##### Blue Bike stations and rides"
   ]
  },
  {
   "cell_type": "code",
   "execution_count": 181,
   "metadata": {},
   "outputs": [],
   "source": [
    "# Make a df of stations in Cambridge\n",
    "bike_stations_cambridge = bike_stations[bike_stations['Municipality'] == 'Cambridge'].reset_index(drop=True)\n",
    "bike_stations_cambridge = bike_stations_cambridge.rename(columns={'Lat':'latitude', 'Long':'longitude'})\n",
    "\n",
    "# Make a list of stations in Cambridge\n",
    "bike_stations_cambridge_ls = bike_stations_cambridge['NAME'].to_list()\n",
    "\n",
    "# Subset to bike rides that started and ended in Cambridge\n",
    "bike_rides = bike_rides[(bike_rides['start station name'].isin(bike_stations_cambridge_ls)) & (bike_rides['end station name'].isin(bike_stations_cambridge_ls))].reset_index(drop=True)\n",
    "\n",
    "# Match column name for travel_time_sec and create travel_time_min\n",
    "bike_rides = bike_rides.rename(columns={'tripduration':'travel_time_sec'})\n",
    "bike_rides['travel_time_min'] = bike_rides['travel_time_sec']/60"
   ]
  },
  {
   "cell_type": "markdown",
   "metadata": {},
   "source": [
    "##### T rides/trains"
   ]
  },
  {
   "cell_type": "code",
   "execution_count": 130,
   "metadata": {},
   "outputs": [],
   "source": [
    "# Subset to rides taken in summer 2022\n",
    "T_rides['service_date'] = pd.to_datetime(T_rides['service_date'])\n",
    "T_rides = T_rides[(T_rides['service_date'] >= '2022-06-01') & (T_rides['service_date'] < '2022-09-01')].reset_index()\n",
    "\n",
    "# Goal: Subset to T paths that start and end in Cambridge\n",
    "### Method 1: Manually get list of relevant stops\n",
    "### Method 2: Maybe I don't need to formally do this if I know latitude and longitude and the time it takes to walk to these stops"
   ]
  },
  {
   "cell_type": "code",
   "execution_count": 132,
   "metadata": {},
   "outputs": [],
   "source": [
    "# Revise service date, start time, and end time\n",
    "# Based on data source notes\n",
    "T_rides.loc[T_rides['start_time_sec'] >= 60*60*24, 'service_date'] += datetime.timedelta(days=1)\n",
    "T_rides.loc[T_rides['start_time_sec'] >= 60*60*24, 'start_time_sec'] -= 60*60*24\n",
    "T_rides.loc[T_rides['start_time_sec'] >= 60*60*24, 'end_time_sec'] -= 60*60*24"
   ]
  },
  {
   "cell_type": "code",
   "execution_count": null,
   "metadata": {},
   "outputs": [],
   "source": [
    "# Make sure editing time worked\n",
    "print(T_rides['start_time_sec'].describe())\n",
    "print(T_rides['start_time_sec'].max() < 60*60*24)"
   ]
  },
  {
   "cell_type": "code",
   "execution_count": 133,
   "metadata": {},
   "outputs": [],
   "source": [
    "# Create new columns for reference\n",
    "T_rides['start_time_min'] = T_rides['start_time_sec']/60\n",
    "T_rides['end_time_min'] = T_rides['end_time_sec']/60\n",
    "\n",
    "T_rides['start_time_hour'] = T_rides['start_time_min']/60\n",
    "T_rides['end_time_hour'] = T_rides['end_time_min']/60\n",
    "\n",
    "# TO DO: Something with fixing the date and time alignment\n",
    "# TO DO: Merge in T_station data so I have latitude and longitude in this one dataframe at some point?"
   ]
  },
  {
   "cell_type": "markdown",
   "metadata": {},
   "source": [
    "##### T stations"
   ]
  },
  {
   "cell_type": "code",
   "execution_count": 76,
   "metadata": {},
   "outputs": [],
   "source": [
    "# Calculate longitude and latitude values for each coordinate geometry point\n",
    "# Convert from NAD83 to regular coordinates\n",
    "def convert_longLat(geo_df):\n",
    "    inProj = Proj(init=\"epsg:26986\", preserve_units=True)\n",
    "    outProj = Proj(init='epsg:4326')\n",
    "\n",
    "    long_conv, lat_conv = transform(inProj, outProj, geo_df.geometry.x, geo_df.geometry.y)\n",
    "\n",
    "    geo_df['latitude'] = lat_conv\n",
    "    geo_df['longitude'] = long_conv\n",
    "\n",
    "    return geo_df\n",
    "\n",
    "T_stations = convert_longLat(T_stations)\n",
    "# Note: Gives me a \"this function is deprecated\" warning but it runs"
   ]
  },
  {
   "cell_type": "markdown",
   "metadata": {},
   "source": [
    "### Finding closest T stop to each bike station"
   ]
  },
  {
   "cell_type": "code",
   "execution_count": 160,
   "metadata": {},
   "outputs": [],
   "source": [
    "# Subsetting to T stations in Cambridge\n",
    "# Note: Figure out how to do this more automatically? One option: subset to stations in Cambridge using geopy.geocoders and Nominatim\n",
    "cambridge_station_ls = ['Alewife', 'Central', 'Harvard', 'Kendall/MIT', 'Porter'] \n",
    "T_stations = T_stations[T_stations['STATION'].isin(cambridge_station_ls)]"
   ]
  },
  {
   "cell_type": "code",
   "execution_count": 168,
   "metadata": {},
   "outputs": [
    {
     "data": {
      "text/html": [
       "<div>\n",
       "<style scoped>\n",
       "    .dataframe tbody tr th:only-of-type {\n",
       "        vertical-align: middle;\n",
       "    }\n",
       "\n",
       "    .dataframe tbody tr th {\n",
       "        vertical-align: top;\n",
       "    }\n",
       "\n",
       "    .dataframe thead th {\n",
       "        text-align: right;\n",
       "    }\n",
       "</style>\n",
       "<table border=\"1\" class=\"dataframe\">\n",
       "  <thead>\n",
       "    <tr style=\"text-align: right;\">\n",
       "      <th></th>\n",
       "      <th>Number</th>\n",
       "      <th>NAME</th>\n",
       "      <th>latitude</th>\n",
       "      <th>longitude</th>\n",
       "      <th>Seasonal Status</th>\n",
       "      <th>Municipality</th>\n",
       "      <th>Total Docks</th>\n",
       "      <th>Station ID (to match to historic system data)</th>\n",
       "    </tr>\n",
       "  </thead>\n",
       "  <tbody>\n",
       "    <tr>\n",
       "      <th>0</th>\n",
       "      <td>M32002</td>\n",
       "      <td>One Kendall Square at Hampshire St / Portland St</td>\n",
       "      <td>42.366277</td>\n",
       "      <td>-71.091690</td>\n",
       "      <td>Year Round</td>\n",
       "      <td>Cambridge</td>\n",
       "      <td>19.0</td>\n",
       "      <td>91</td>\n",
       "    </tr>\n",
       "    <tr>\n",
       "      <th>1</th>\n",
       "      <td>M32003</td>\n",
       "      <td>One Broadway / Kendall Sq at Main St / 3rd St</td>\n",
       "      <td>42.362242</td>\n",
       "      <td>-71.083111</td>\n",
       "      <td>Year Round</td>\n",
       "      <td>Cambridge</td>\n",
       "      <td>23.0</td>\n",
       "      <td>72</td>\n",
       "    </tr>\n",
       "    <tr>\n",
       "      <th>2</th>\n",
       "      <td>M32004</td>\n",
       "      <td>Kendall T</td>\n",
       "      <td>42.362428</td>\n",
       "      <td>-71.084955</td>\n",
       "      <td>Year Round</td>\n",
       "      <td>Cambridge</td>\n",
       "      <td>23.0</td>\n",
       "      <td>189</td>\n",
       "    </tr>\n",
       "    <tr>\n",
       "      <th>3</th>\n",
       "      <td>M32005</td>\n",
       "      <td>MIT Stata Center at Vassar St / Main St</td>\n",
       "      <td>42.362131</td>\n",
       "      <td>-71.091156</td>\n",
       "      <td>Year Round</td>\n",
       "      <td>Cambridge</td>\n",
       "      <td>35.0</td>\n",
       "      <td>80</td>\n",
       "    </tr>\n",
       "    <tr>\n",
       "      <th>4</th>\n",
       "      <td>M32006</td>\n",
       "      <td>MIT at Mass Ave / Amherst St</td>\n",
       "      <td>42.358100</td>\n",
       "      <td>-71.093198</td>\n",
       "      <td>Year Round</td>\n",
       "      <td>Cambridge</td>\n",
       "      <td>27.0</td>\n",
       "      <td>67</td>\n",
       "    </tr>\n",
       "    <tr>\n",
       "      <th>...</th>\n",
       "      <td>...</td>\n",
       "      <td>...</td>\n",
       "      <td>...</td>\n",
       "      <td>...</td>\n",
       "      <td>...</td>\n",
       "      <td>...</td>\n",
       "      <td>...</td>\n",
       "      <td>...</td>\n",
       "    </tr>\n",
       "    <tr>\n",
       "      <th>84</th>\n",
       "      <td>M32089</td>\n",
       "      <td>Moore Youth Center</td>\n",
       "      <td>42.363539</td>\n",
       "      <td>-71.111698</td>\n",
       "      <td>Year Round</td>\n",
       "      <td>Cambridge</td>\n",
       "      <td>15.0</td>\n",
       "      <td>No ID pre-March 2023</td>\n",
       "    </tr>\n",
       "    <tr>\n",
       "      <th>85</th>\n",
       "      <td>M32090</td>\n",
       "      <td>O'Brien Highway at First Street</td>\n",
       "      <td>42.370982</td>\n",
       "      <td>-71.076638</td>\n",
       "      <td>Year Round</td>\n",
       "      <td>Cambridge</td>\n",
       "      <td>19.0</td>\n",
       "      <td>No ID pre-March 2023</td>\n",
       "    </tr>\n",
       "    <tr>\n",
       "      <th>86</th>\n",
       "      <td>M32091</td>\n",
       "      <td>325 Binney St.</td>\n",
       "      <td>42.367220</td>\n",
       "      <td>-71.089030</td>\n",
       "      <td>Year Round</td>\n",
       "      <td>Cambridge</td>\n",
       "      <td>19.0</td>\n",
       "      <td>No ID pre-March 2023</td>\n",
       "    </tr>\n",
       "    <tr>\n",
       "      <th>87</th>\n",
       "      <td>M32001</td>\n",
       "      <td>Lechmere Station at Cambridge St / First St</td>\n",
       "      <td>42.370677</td>\n",
       "      <td>-71.076529</td>\n",
       "      <td>Year Round - Currently Stored</td>\n",
       "      <td>Cambridge</td>\n",
       "      <td>19.0</td>\n",
       "      <td>NaN</td>\n",
       "    </tr>\n",
       "    <tr>\n",
       "      <th>88</th>\n",
       "      <td>M32092</td>\n",
       "      <td>Elevate at One Leighton</td>\n",
       "      <td>42.369931</td>\n",
       "      <td>-71.073526</td>\n",
       "      <td>Year Round</td>\n",
       "      <td>Cambridge</td>\n",
       "      <td>17.0</td>\n",
       "      <td>No ID pre-March 2023</td>\n",
       "    </tr>\n",
       "  </tbody>\n",
       "</table>\n",
       "<p>89 rows × 8 columns</p>\n",
       "</div>"
      ],
      "text/plain": [
       "    Number                                              NAME   latitude  \\\n",
       "0   M32002  One Kendall Square at Hampshire St / Portland St  42.366277   \n",
       "1   M32003     One Broadway / Kendall Sq at Main St / 3rd St  42.362242   \n",
       "2   M32004                                         Kendall T  42.362428   \n",
       "3   M32005           MIT Stata Center at Vassar St / Main St  42.362131   \n",
       "4   M32006                      MIT at Mass Ave / Amherst St  42.358100   \n",
       "..     ...                                               ...        ...   \n",
       "84  M32089                                Moore Youth Center  42.363539   \n",
       "85  M32090                   O'Brien Highway at First Street  42.370982   \n",
       "86  M32091                                    325 Binney St.  42.367220   \n",
       "87  M32001       Lechmere Station at Cambridge St / First St  42.370677   \n",
       "88  M32092                           Elevate at One Leighton  42.369931   \n",
       "\n",
       "    longitude                Seasonal Status Municipality  Total Docks  \\\n",
       "0  -71.091690                     Year Round    Cambridge         19.0   \n",
       "1  -71.083111                     Year Round    Cambridge         23.0   \n",
       "2  -71.084955                     Year Round    Cambridge         23.0   \n",
       "3  -71.091156                     Year Round    Cambridge         35.0   \n",
       "4  -71.093198                     Year Round    Cambridge         27.0   \n",
       "..        ...                            ...          ...          ...   \n",
       "84 -71.111698                     Year Round    Cambridge         15.0   \n",
       "85 -71.076638                     Year Round    Cambridge         19.0   \n",
       "86 -71.089030                     Year Round    Cambridge         19.0   \n",
       "87 -71.076529  Year Round - Currently Stored    Cambridge         19.0   \n",
       "88 -71.073526                     Year Round    Cambridge         17.0   \n",
       "\n",
       "   Station ID (to match to historic system data)  \n",
       "0                                             91  \n",
       "1                                             72  \n",
       "2                                            189  \n",
       "3                                             80  \n",
       "4                                             67  \n",
       "..                                           ...  \n",
       "84                          No ID pre-March 2023  \n",
       "85                          No ID pre-March 2023  \n",
       "86                          No ID pre-March 2023  \n",
       "87                                           NaN  \n",
       "88                          No ID pre-March 2023  \n",
       "\n",
       "[89 rows x 8 columns]"
      ]
     },
     "execution_count": 168,
     "metadata": {},
     "output_type": "execute_result"
    }
   ],
   "source": [
    "bike_stations_cambridge"
   ]
  },
  {
   "cell_type": "code",
   "execution_count": 170,
   "metadata": {},
   "outputs": [],
   "source": [
    "# Goal dict:\n",
    "# {T_station_name:[(bike_station_name1, bike_station_lat1, bike_station_long1, walking_time_from_google_maps_api1), (bike_station_name2, bike_station_lat2, bike_station_long2, walking_time_from_google_maps_api2)]}\n",
    "\n",
    "# Steps\n",
    "### Create function that takes in a bike_station_name, bike_station_lat, and bike_station_long\n",
    "### Finds walking time to each T station (calling Google Maps API)\n",
    "### Finds minimum walking time\n",
    "### Outputs a tuple (bike_station_name1, bike_station_lat1, bike_station_long1, walking_time_from_google_maps_api1) \n",
    "\n",
    "# Next\n",
    "# Merge this df onto bike ride station\n",
    "\n",
    "# Next\n",
    "# Q: Repeat for end station? -- Do I need to recalculate walking time or can I assume it's the same both ways?"
   ]
  },
  {
   "cell_type": "markdown",
   "metadata": {},
   "source": [
    "### Visualization"
   ]
  },
  {
   "cell_type": "code",
   "execution_count": 195,
   "metadata": {},
   "outputs": [],
   "source": [
    "# Graph one: log travel time\n",
    "bike_rides['log_travel_time_min'] = np.log(bike_rides['travel_time_min'])"
   ]
  },
  {
   "cell_type": "code",
   "execution_count": 215,
   "metadata": {},
   "outputs": [
    {
     "data": {
      "text/plain": [
       "Index(['travel_time_sec', 'starttime', 'stoptime', 'start station id',\n",
       "       'start station name', 'start station latitude',\n",
       "       'start station longitude', 'end station id', 'end station name',\n",
       "       'end station latitude', 'end station longitude', 'bikeid', 'usertype',\n",
       "       'postal code', 'travel_time_min', 'log_travel_time_min'],\n",
       "      dtype='object')"
      ]
     },
     "execution_count": 215,
     "metadata": {},
     "output_type": "execute_result"
    }
   ],
   "source": [
    "bike_rides.columns"
   ]
  },
  {
   "cell_type": "code",
   "execution_count": 216,
   "metadata": {},
   "outputs": [
    {
     "name": "stderr",
     "output_type": "stream",
     "text": [
      "/var/folders/79/rqxxrf3n6zq58_z0ng_2hbhm0000gn/T/ipykernel_49903/3792689030.py:2: FutureWarning: \n",
      "\n",
      "Passing `palette` without assigning `hue` is deprecated and will be removed in v0.14.0. Assign the `x` variable to `hue` and set `legend=False` for the same effect.\n",
      "\n",
      "  sns.violinplot(y='log_travel_time_min', data=bike_rides, palette='muted', cut=0)\n"
     ]
    },
    {
     "data": {
      "image/png": "[encoded data removed]",
      "text/plain": [
       "<Figure size 1000x600 with 1 Axes>"
      ]
     },
     "metadata": {},
     "output_type": "display_data"
    }
   ],
   "source": [
    "plt.figure(figsize=(10, 6))\n",
    "sns.violinplot(y='log_travel_time_min', data=bike_rides, palette='muted', cut=0)\n",
    "#plt.ylim(0, 60)  # Focus on trip durations up to 60 minutes\n",
    "plt.title('Trip Duration, Rides in Cambridge in Summer 2021', fontsize=14)\n",
    "plt.xlabel('All Trips', fontsize=12)\n",
    "plt.ylabel('Log Trip Duration (minutes)', fontsize=12)\n",
    "plt.show()"
   ]
  }
 ],
 "metadata": {
  "kernelspec": {
   "display_name": "Python 3",
   "language": "python",
   "name": "python3"
  },
  "language_info": {
   "codemirror_mode": {
    "name": "ipython",
    "version": 3
   },
   "file_extension": ".py",
   "mimetype": "text/x-python",
   "name": "python",
   "nbconvert_exporter": "python",
   "pygments_lexer": "ipython3",
   "version": "3.12.2"
  }
 },
 "nbformat": 4,
 "nbformat_minor": 2
}
